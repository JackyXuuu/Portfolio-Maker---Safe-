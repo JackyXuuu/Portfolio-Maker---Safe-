{
 "cells": [
  {
   "cell_type": "code",
   "execution_count": 12,
   "metadata": {},
   "outputs": [],
   "source": [
    "from IPython.display import display, Math, Latex\n",
    "\n",
    "import pandas as pd\n",
    "import numpy as np\n",
    "import numpy_financial as npf\n",
    "import yfinance as yf\n",
    "import matplotlib.pyplot as plt\n",
    "from datetime import datetime"
   ]
  },
  {
   "cell_type": "markdown",
   "metadata": {},
   "source": [
    "## Group Assignment\n",
    "### Team Number: XX\n",
    "### Team Member Names:\n",
    "### Team Strategy Chosen: __________(RISKY OR SAFE)"
   ]
  },
  {
   "cell_type": "code",
   "execution_count": 13,
   "metadata": {},
   "outputs": [
    {
     "data": {
      "text/plain": [
       "62"
      ]
     },
     "execution_count": 13,
     "metadata": {},
     "output_type": "execute_result"
    }
   ],
   "source": [
    "# read the ticker file\n",
    "tickers = pd.read_csv(\"Tickers.csv\",header=None)\n",
    "# rename the column as \"ticker\"\n",
    "tickers.columns=['ticker']\n",
    "# create a list that contains all the tickers\n",
    "ticker_lst = tickers['ticker'].tolist()\n",
    "\n",
    "len(ticker_lst)"
   ]
  },
  {
   "cell_type": "code",
   "execution_count": 18,
   "metadata": {},
   "outputs": [],
   "source": [
    "# define function call_tickers that takes a list of tickers and return a list of called tickers\n",
    "def call_tickers(lst):\n",
    "    # create an empty list to store the called tickers\n",
    "    called_ticker_lst = []\n",
    "    # write a for loop to iterate the ticker list\n",
    "    for i in lst:\n",
    "        # call each ticker and append it to the called ticker list\n",
    "        called_ticker_lst.append(yf.Ticker(i))\n",
    "    # return the called ticker list when finish\n",
    "    return called_ticker_lst\n",
    "\n",
    "# defein function filter_USD that takes a list of called tickers and return a list of only US listed tickers\n",
    "def filter_USD(lst):\n",
    "    # create a new list to store the us tickers\n",
    "    usd_lst = []\n",
    "    # write a for loop that iterates the called ticker list\n",
    "    for i in lst:\n",
    "        # use try and except to ignore the delisted tickers\n",
    "        try:\n",
    "            # if the currency of the stock is \"USD\"\n",
    "            if i.info['currency'] == 'USD':\n",
    "                # append the ticker to the usd list\n",
    "                usd_lst.append(i)\n",
    "        except:\n",
    "            pass\n",
    "    # return the usd list\n",
    "    return usd_lst\n",
    "\n",
    "# define function filter_daily_volumn that takes a called ticker list, start date, end date, \n",
    "# and returns a list of tickers with an average daily_volume of at least 10000 shares in that time period\n",
    "def filter_daily_volume(lst,start,end):\n",
    "    # write a for loop to iterate the called ticker list\n",
    "    for i in lst:\n",
    "        # extract the volume of the stock in the given time period and see if the avergae is less than 10000\n",
    "        if i.history(start = start, end = end,interval='1d')['Volume'].mean() < 10000:\n",
    "            # if yes, remove the ticker from the list\n",
    "            lst.remove(i)\n",
    "        # return the list with unqualified tickers removed\n",
    "        return lst\n",
    "\n"
   ]
  },
  {
   "cell_type": "code",
   "execution_count": 17,
   "metadata": {},
   "outputs": [],
   "source": [
    "called_tickers = call_tickers(ticker_lst)\n",
    "usd_tickers = filter_USD_ver2(called)\n",
    "good_tickers = filter_daily_volume(usd, '2021-07-02','2021-10-22')"
   ]
  },
  {
   "cell_type": "code",
   "execution_count": null,
   "metadata": {},
   "outputs": [],
   "source": [
    "def prices(lst,start,end):\n",
    "    prices = pd.DataFrame()\n",
    "    for i in lst:\n",
    "        prices[str(i)[24:-1]] = i.history(start = start,end=end,interval = '1d')['Close']\n",
    "    return prices"
   ]
  },
  {
   "cell_type": "code",
   "execution_count": null,
   "metadata": {},
   "outputs": [],
   "source": [
    "prices = prices(good_tickers,'2018-01-01','2021-10-25')"
   ]
  },
  {
   "cell_type": "code",
   "execution_count": 84,
   "metadata": {},
   "outputs": [],
   "source": [
    "std = []\n",
    "names=[]\n",
    "\n",
    "for i in good_tickers:\n",
    "    std.append(prices[str(i)[24:-1]].std())\n",
    "    names.append(str(i)[24:-1])\n",
    "    \n",
    "std_df = pd.DataFrame(std)\n",
    "std_df['tickers'] = pd.DataFrame(names)\n",
    "std_df.set_index(std_df['tickers'],inplace=True)\n",
    "std_df.drop('tickers',axis=1,inplace=True)\n",
    "std_df.columns=['std']\n",
    "#std_df.sort_values(by='std')"
   ]
  },
  {
   "cell_type": "markdown",
   "metadata": {},
   "source": [
    "## Contribution Declaration\n",
    "\n",
    "The following team members made a meaningful contribution to this assignment:\n",
    "\n",
    "Insert Names Here."
   ]
  }
 ],
 "metadata": {
  "kernelspec": {
   "display_name": "Python 3",
   "language": "python",
   "name": "python3"
  },
  "language_info": {
   "codemirror_mode": {
    "name": "ipython",
    "version": 3
   },
   "file_extension": ".py",
   "mimetype": "text/x-python",
   "name": "python",
   "nbconvert_exporter": "python",
   "pygments_lexer": "ipython3",
   "version": "3.8.8"
  }
 },
 "nbformat": 4,
 "nbformat_minor": 2
}
