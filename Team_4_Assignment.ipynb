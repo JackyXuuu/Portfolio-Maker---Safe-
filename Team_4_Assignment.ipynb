{
 "cells": [
  {
   "cell_type": "code",
   "execution_count": 53,
   "metadata": {
    "tags": []
   },
   "outputs": [],
   "source": [
    "from IPython.display import display, Math, Latex\n",
    "\n",
    "import pandas as pd\n",
    "import numpy as np\n",
    "import numpy_financial as npf\n",
    "import yfinance as yf\n",
    "import matplotlib.pyplot as plt\n",
    "from datetime import datetime"
   ]
  },
  {
   "cell_type": "markdown",
   "metadata": {},
   "source": [
    "## Group Assignment\n",
    "### Team Number: 4\n",
    "### Team Member Names: Jacky Xu, Esha Kumar, Jingyi Fang\n",
    "### Team Strategy Chosen: SAFE"
   ]
  },
  {
   "cell_type": "code",
   "execution_count": 3,
   "metadata": {},
   "outputs": [
    {
     "data": {
      "text/plain": [
       "62"
      ]
     },
     "execution_count": 3,
     "metadata": {},
     "output_type": "execute_result"
    }
   ],
   "source": [
    "# read the ticker file\n",
    "tickers = pd.read_csv(\"Tickers.csv\",header=None)\n",
    "# rename the column as \"ticker\"\n",
    "tickers.columns=['ticker']\n",
    "# create a list that contains all the tickers\n",
    "ticker_lst = tickers['ticker'].tolist()\n",
    "\n",
    "len(ticker_lst)"
   ]
  },
  {
   "cell_type": "code",
   "execution_count": 68,
   "metadata": {},
   "outputs": [],
   "source": [
    "# define function call_tickers that takes a list of tickers and return a list of called tickers\n",
    "def call_tickers(lst):\n",
    "    # create an empty list to store the called tickers\n",
    "    called_ticker_lst = []\n",
    "    # write a for loop to iterate the ticker list\n",
    "    for i in lst:\n",
    "        # call each ticker and append it to the called ticker list\n",
    "        called_ticker_lst.append(yf.Ticker(i))\n",
    "    # return the called ticker list when finish\n",
    "    return called_ticker_lst\n",
    "\n",
    "# defein function filter_USD that takes a list of called tickers and return a list of only US listed tickers\n",
    "def filter_USD(lst):\n",
    "    # create a new list to store the us tickers\n",
    "    usd_lst = []\n",
    "    # write a for loop that iterates the called ticker list\n",
    "    for i in lst:\n",
    "        # use try and except to ignore the delisted tickers\n",
    "        try:\n",
    "            # if the currency of the stock is \"USD\"\n",
    "            if i.info['currency'] == 'USD':\n",
    "                # append the ticker to the usd list\n",
    "                usd_lst.append(i)\n",
    "        except:\n",
    "            pass\n",
    "    # return the usd list\n",
    "    return usd_lst\n",
    "\n",
    "# define function filter_daily_volumn that takes a called ticker list, start date, end date, \n",
    "# and returns a list of tickers with an average daily_volume of at least 10000 shares in that time period\n",
    "def filter_daily_volume(lst,start,end):\n",
    "    # write a for loop to iterate the called ticker list\n",
    "    for i in lst:\n",
    "        # extract the volume of the stock in the given time period and see if the avergae is less than 10000\n",
    "        if i.history(start = start, end = end,interval='1d')['Volume'].mean() < 10000:\n",
    "            # if yes, remove the ticker from the list\n",
    "            lst.remove(i)\n",
    "        # return the list with unqualified tickers removed\n",
    "        return lst\n",
    "\n",
    "\n",
    "    \n",
    "def get_prices(lst,start,end):\n",
    "    prices = pd.DataFrame()\n",
    "    for i in lst:\n",
    "        prices[str(i)[24:-1]] = i.history(start = start,end=end,interval = '1d')['Close']\n",
    "        \n",
    "    return prices\n",
    "\n",
    "def get_monthly_returns(prices):\n",
    "    monthly_returns = prices.resample('MS').first().pct_change()\n",
    "    monthly_returns = monthly_returns.iloc[1:]\n",
    "    return monthly_returns\n",
    "    \n",
    "\n",
    "def get_std(prices):\n",
    "    std = pd.DataFrame(columns = ('ticker','std'))\n",
    "    index = 0\n",
    "    for i in prices.columns:\n",
    "        std.loc[index] = [i, prices[i].std()]\n",
    "        index += 1\n",
    "    return std\n",
    "\n",
    "def rank(df,column_name,method):\n",
    "    df[column_name+'_rank'] = df[column_name].rank(method=method)\n",
    "    return df\n",
    "\n",
    "def get_std_beta_rank(std,beta):\n",
    "    rank = pd.concat([std,beta['beta'],beta['beta_rank']],join='inner',axis=1)\n",
    "    rank['final_rank'] = rank['std_rank'] + rank['beta_rank']\n",
    "    rank = rank.sort_values(by='final_rank')\n",
    "    rank = rank[:40]\n",
    "    return std_beta_rank"
   ]
  },
  {
   "cell_type": "code",
   "execution_count": 5,
   "metadata": {},
   "outputs": [],
   "source": [
    "# Getting the Symbol (Ticker) of each Stock\n",
    "def get_ticker_Symbol (lst):\n",
    "    \n",
    "    ticker_lst = []\n",
    "    for ticker in lst:\n",
    "        ticker_lst.append(ticker.info['symbol'])\n",
    "    return ticker_lst"
   ]
  },
  {
   "cell_type": "code",
   "execution_count": 6,
   "metadata": {},
   "outputs": [],
   "source": [
    "# Calculating Beta\n",
    "def get_beta(good_tickers, prices, start_date, end_date, ticker_symbols):\n",
    "    Ticker = '^GSPC'\n",
    "    MarketIndex = yf.Ticker(Ticker) # The symbol yfinance uses for the S&P 500\n",
    "\n",
    "    MarketIndex_hist = MarketIndex.history(start=start_date, end=end_date)\n",
    "\n",
    "    # DataFrame for Market Index\n",
    "    marketDF = pd.DataFrame(MarketIndex_hist['Close'])\n",
    "    marketDF.columns = [Ticker]\n",
    "    \n",
    "\n",
    "    # Loop iterates through the column of prices\n",
    "    betaList = []\n",
    "    for i in range(len(ticker_symbols)):\n",
    "        currentStockPrice = prices[ticker_symbols[i]]\n",
    "        currentStockPrice = pd.concat([currentStockPrice, marketDF], join = 'inner', axis=1)\n",
    "        \n",
    "        # Getting the Monthly Return of each stock\n",
    "        monthly_returns = currentStockPrice.resample('MS').first().pct_change()  # Dropping the first entry (since it's N/A)\n",
    "        monthly_returns.drop(index=monthly_returns.index[0], inplace=True)\n",
    "        \n",
    "        \n",
    "        # Calculate the market variance (you will need to reference the column correponding to the market)\n",
    "        MarketVar = monthly_returns[Ticker].var()\n",
    "        \n",
    "        betaList.append(monthly_returns.cov() / MarketVar)\n",
    "        \n",
    "    # Filter through betaList and extract the beta for each stock\n",
    "    for i in range(len(betaList)):\n",
    "        betaList[i] = betaList[i].iat[0,1]\n",
    "    \n",
    "    # Creating a DataFrame for Tickers and their Beta value\n",
    "    beta = pd.DataFrame(columns = ('ticker','beta'))\n",
    "    for i in range(len(good_tickers)):\n",
    "        beta.loc[i] = [str(good_tickers[i])[24:-1], betaList[i]]\n",
    "\n",
    "    return beta"
   ]
  },
  {
   "cell_type": "code",
   "execution_count": 9,
   "metadata": {},
   "outputs": [],
   "source": [
    "start_date = \"2021-07-02\"\n",
    "end_date = \"2021-10-22\"\n",
    "\n",
    "\n",
    "# call the tickers\n",
    "called_tickers = call_tickers(ticker_lst)\n",
    "\n",
    "# filter the usd tickers\n",
    "usd_tickers = filter_USD(called_tickers)\n",
    "\n",
    "# filter the tickers with required average daily volumn\n",
    "good_tickers = filter_daily_volume(usd_tickers, start_date, end_date)\n",
    "\n",
    "# Get a list of Ticker Symbols (list of Strings)\n",
    "ticker_symbols = get_ticker_Symbol (good_tickers)\n",
    "\n",
    "# extract the closing prices for the good tickers\n",
    "prices = get_prices(good_tickers, start_date, end_date)\n",
    "\n",
    "# calculate the std according to the closing prices\n",
    "std = get_std(prices)\n",
    "\n",
    "# rank them in ascending order\n",
    "std = rank(std,'std','min')\n",
    "\n",
    "# calculate the beta according to the closing prices\n",
    "beta = get_beta(good_tickers, prices, start_date, end_date, ticker_symbols)\n",
    "\n",
    "# rank them in ascending order\n",
    "beta = rank(beta,'beta','min')\n",
    "\n",
    "# combine the rank of std and beta, then rank the combined rank\n",
    "std_beta_rank = get_std_beta_rank(std,beta)"
   ]
  },
  {
   "cell_type": "code",
   "execution_count": 72,
   "metadata": {},
   "outputs": [],
   "source": [
    "def pair_by_corr(rank, prices):\n",
    "    pairs = pd.DataFrame()\n",
    "    counter = 0\n",
    "    while counter < 10:\n",
    "\n",
    "        min_corr = 1\n",
    "        self = rank.iloc[0,0]\n",
    "        self_monthly_returns = pd.DataFrame(get_monthly_returns(prices[self]))\n",
    "        for i in range (1,len(rank)-1):\n",
    "            candidate = rank.iloc[i,0]\n",
    "            candidate_monthly_returns = pd.DataFrame(get_monthly_returns(prices[candidate]))\n",
    "            corr = self_monthly_returns[self].corr(candidate_monthly_returns[candidate])\n",
    "            if corr <= min_corr:\n",
    "                min_corr = corr\n",
    "                champion = candidate\n",
    "                champion_monthly_returns = candidate_monthly_returns\n",
    "        pairs[self+'_price'] = prices[self].resample('MS').first()\n",
    "        pairs[self+'_return'] = self_monthly_returns[self]\n",
    "        pairs[champion+'_price'] = prices[champion].resample('MS').first()\n",
    "        pairs[champion+'_return'] = champion_monthly_returns[champion]\n",
    "        rank = rank[1:]\n",
    "        rank = rank[rank['ticker'] != str(champion)]\n",
    "        counter += 1\n",
    "    return pairs\n",
    "            \n",
    "        \n",
    "        "
   ]
  },
  {
   "cell_type": "code",
   "execution_count": 73,
   "metadata": {},
   "outputs": [],
   "source": [
    "pairs = pair_by_corr(std_beta_rank,prices)"
   ]
  },
  {
   "cell_type": "code",
   "execution_count": 74,
   "metadata": {},
   "outputs": [],
   "source": [
    "def get_w1(stock1, stock2, pairs):\n",
    "    min_ratio = 100\n",
    "    stock1_weight = 0\n",
    "    stock1_shares = 500000 / pairs[stock1+'_price'][0]\n",
    "    stock2_shares = 500000 / pairs[stock2+'_price'][0]\n",
    "    for i in range(0,101):\n",
    "        new_portfolio = pd.DataFrame()\n",
    "        new_portfolio['value'] = (pairs[stock1+\"_price\"]*stock1_shares)*(i/100)+(pairs[stock2+\"_price\"]*stock2_shares)*(1-i/100)\n",
    "        new_portfolio['return'] = new_portfolio['value'].pct_change()*100\n",
    "        sharpe_ratio = new_portfolio['return'].mean()/new_portfolio['return'].std()\n",
    "        if sharpe_ratio <= min_ratio:\n",
    "            min_ratio = sharpe_ratio\n",
    "            stock1_weight = i\n",
    "    return stock1_weight\n",
    "\n",
    "def get_range(stock1_weight):\n",
    "    if stock1_weight >= 50:\n",
    "        range_max = 35/stock1_weight\n",
    "        range_min = 2.5/(100-stock1_weight)\n",
    "    else:\n",
    "        range_max = 2.5/stock1_weight,0\n",
    "        range_min = 35/(100-stock1_weight)\n",
    "    return math.ceil(range_min*100),math.floor(range_max*100)\n",
    "    "
   ]
  },
  {
   "cell_type": "code",
   "execution_count": 75,
   "metadata": {},
   "outputs": [
    {
     "data": {
      "text/plain": [
       "(6, 64)"
      ]
     },
     "execution_count": 75,
     "metadata": {},
     "output_type": "execute_result"
    }
   ],
   "source": [
    "w1 = get_w1('KMI','AAPL',pairs)\n",
    "range_min,range_max = get_range(w1)\n",
    "range_min,range_max"
   ]
  },
  {
   "cell_type": "markdown",
   "metadata": {},
   "source": [
    "## Contribution Declaration\n",
    "\n",
    "The following team members made a meaningful contribution to this assignment:\n",
    "\n",
    "Insert Names Here."
   ]
  }
 ],
 "metadata": {
  "kernelspec": {
   "display_name": "Python 3",
   "language": "python",
   "name": "python3"
  },
  "language_info": {
   "codemirror_mode": {
    "name": "ipython",
    "version": 3
   },
   "file_extension": ".py",
   "mimetype": "text/x-python",
   "name": "python",
   "nbconvert_exporter": "python",
   "pygments_lexer": "ipython3",
   "version": "3.8.8"
  }
 },
 "nbformat": 4,
 "nbformat_minor": 4
}
