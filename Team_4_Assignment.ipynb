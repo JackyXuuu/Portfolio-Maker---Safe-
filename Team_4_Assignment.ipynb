{
 "cells": [
  {
   "cell_type": "code",
   "execution_count": 13,
   "metadata": {},
   "outputs": [],
   "source": [
    "from IPython.display import display, Math, Latex\n",
    "\n",
    "import pandas as pd\n",
    "import numpy as np\n",
    "import numpy_financial as npf\n",
    "import yfinance as yf\n",
    "import matplotlib.pyplot as plt\n",
    "from datetime import datetime"
   ]
  },
  {
   "cell_type": "markdown",
   "metadata": {},
   "source": [
    "## Group Assignment\n",
    "### Team Number: 4\n",
    "### Team Member Names: Jacky Xu, Esha Kumar, Jingyi Fang\n",
    "### Team Strategy Chosen: SAFE"
   ]
  },
  {
   "cell_type": "code",
   "execution_count": 69,
   "metadata": {},
   "outputs": [
    {
     "data": {
      "text/plain": [
       "'SHOP.TO'"
      ]
     },
     "execution_count": 69,
     "metadata": {},
     "output_type": "execute_result"
    }
   ],
   "source": [
    "tickers = pd.read_csv(\"Tickers.csv\", header=None)\n",
    "tickers.columns = [\"ticker\"]\n",
    "ticker_lst = tickers['ticker'].tolist()\n",
    "ticker_lst"
   ]
  },
  {
   "cell_type": "code",
   "execution_count": 70,
   "metadata": {},
   "outputs": [
    {
     "data": {
      "text/plain": [
       "62"
      ]
     },
     "execution_count": 70,
     "metadata": {},
     "output_type": "execute_result"
    }
   ],
   "source": [
    "len(ticker_lst)"
   ]
  },
  {
   "cell_type": "code",
   "execution_count": 71,
   "metadata": {},
   "outputs": [],
   "source": [
    "def call_tickers(lst):\n",
    "    called_ticker_lst = []\n",
    "    for i in lst:\n",
    "        called_ticker_lst.append(yf.Ticker(i))\n",
    "    return called_ticker_lst\n",
    "\n",
    "\n",
    "def filter_USD(lst):\n",
    "    new_lst = []\n",
    "    for i in lst:\n",
    "        try:\n",
    "            if i.info['currency'] == 'USD':\n",
    "                new_lst.append(i)\n",
    "        except:\n",
    "            pass\n",
    "    return new_lst\n",
    "\n",
    "\n",
    "def filter_daily_volume(lst,start,end):\n",
    "    for i in lst:\n",
    "        if i.history(start = start, end = end,interval='1d')['Volume'].mean() >= 10000:\n",
    "            lst.remove(i)\n",
    "        return lst"
   ]
  },
  {
   "cell_type": "code",
   "execution_count": 72,
   "metadata": {},
   "outputs": [],
   "source": [
    "called_tickers = call_tickers(ticker_lst)"
   ]
  },
  {
   "cell_type": "code",
   "execution_count": 73,
   "metadata": {},
   "outputs": [],
   "source": [
    "usd_tickers = filter_USD(called_tickers)"
   ]
  },
  {
   "cell_type": "code",
   "execution_count": 77,
   "metadata": {},
   "outputs": [
    {
     "data": {
      "text/plain": [
       "55"
      ]
     },
     "execution_count": 77,
     "metadata": {},
     "output_type": "execute_result"
    }
   ],
   "source": [
    "start = \"2021-07-02\"\n",
    "end = \"2021-10-22\"\n",
    "\n",
    "final = filter_daily_volume(usd_tickers, start, end)\n",
    "len(final)"
   ]
  },
  {
   "cell_type": "code",
   "execution_count": null,
   "metadata": {},
   "outputs": [],
   "source": []
  },
  {
   "cell_type": "markdown",
   "metadata": {},
   "source": [
    "## Contribution Declaration\n",
    "\n",
    "The following team members made a meaningful contribution to this assignment:\n",
    "\n",
    "Insert Names Here."
   ]
  }
 ],
 "metadata": {
  "kernelspec": {
   "display_name": "Python 3",
   "language": "python",
   "name": "python3"
  },
  "language_info": {
   "codemirror_mode": {
    "name": "ipython",
    "version": 3
   },
   "file_extension": ".py",
   "mimetype": "text/x-python",
   "name": "python",
   "nbconvert_exporter": "python",
   "pygments_lexer": "ipython3",
   "version": "3.8.8"
  }
 },
 "nbformat": 4,
 "nbformat_minor": 4
}
